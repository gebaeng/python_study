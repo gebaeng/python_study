{
 "cells": [
  {
   "cell_type": "markdown",
   "id": "af1cfce5",
   "metadata": {
    "id": "334d0a98"
   },
   "source": [
    "# chapter 11. 자료형 - set, tuple & 모듈 불러오기"
   ]
  },
  {
   "cell_type": "markdown",
   "id": "1459183d",
   "metadata": {
    "id": "65384371"
   },
   "source": [
    "## 1) 자료형 - set"
   ]
  },
  {
   "cell_type": "markdown",
   "id": "f202486d",
   "metadata": {
    "id": "phQwHB-c1F_f"
   },
   "source": [
    "① 1, 2, 3, 4로 구성된 집합 set1을 만들어 출력하고 자료형을 확인해보시오.  \n",
    "* 힌트: type(집합)"
   ]
  },
  {
   "cell_type": "code",
   "execution_count": 5,
   "id": "6e11a310",
   "metadata": {
    "id": "f7f390f7"
   },
   "outputs": [
    {
     "data": {
      "text/plain": [
       "set"
      ]
     },
     "execution_count": 5,
     "metadata": {},
     "output_type": "execute_result"
    }
   ],
   "source": [
    "set1={1,2,3,4}\n",
    "type(set1)"
   ]
  },
  {
   "cell_type": "markdown",
   "id": "d4f7edb7",
   "metadata": {
    "id": "R8qjqxx91K1L"
   },
   "source": [
    "② 위에서 생성한 set1에 새로운 값 5를 추가하고 결과를 확인한 뒤,  \n",
    "또 다시 새로운 값 3을 추가하고 결과를 확인하시오.  \n",
    "* 힌트: 집합.add(추가할 값)"
   ]
  },
  {
   "cell_type": "code",
   "execution_count": 6,
   "id": "552b7a6a",
   "metadata": {
    "id": "9339877b"
   },
   "outputs": [
    {
     "name": "stdout",
     "output_type": "stream",
     "text": [
      "{1, 2, 3, 4, 5}\n"
     ]
    }
   ],
   "source": [
    "set1.add(5)\n",
    "set1.add(3)\n",
    "print(set1)"
   ]
  },
  {
   "cell_type": "markdown",
   "id": "6577f7fb",
   "metadata": {
    "id": "cphdmzBc1ShM"
   },
   "source": [
    "③ 'h', 'e', 'l', 'l', 'o'로 구성된 집합 set2을 만들어 출력하고 자료형을 확인해보시오.\n"
   ]
  },
  {
   "cell_type": "code",
   "execution_count": 7,
   "id": "153fa262",
   "metadata": {
    "id": "842c747a"
   },
   "outputs": [
    {
     "data": {
      "text/plain": [
       "set"
      ]
     },
     "execution_count": 7,
     "metadata": {},
     "output_type": "execute_result"
    }
   ],
   "source": [
    "set2={ 'h', 'e', 'l', 'l', 'o'}\n",
    "type(set2)"
   ]
  },
  {
   "cell_type": "markdown",
   "id": "97d0db86",
   "metadata": {
    "id": "JghQ4JUq1Vwh"
   },
   "source": [
    "④ 위에서 생성한 set2에 새로운 값 'w', 'o', 'r', 'l', 'd'를 추가하고 결과를 확인하시오."
   ]
  },
  {
   "cell_type": "code",
   "execution_count": 10,
   "id": "578382d7",
   "metadata": {
    "id": "73e3d591"
   },
   "outputs": [
    {
     "name": "stdout",
     "output_type": "stream",
     "text": [
      "{'h', 'w', 'o', 'e', 'l', 'd', 'r'}\n"
     ]
    }
   ],
   "source": [
    "set2.add( 'w')\n",
    "set2.add( 'o')\n",
    "set2.add( 'r')\n",
    "set2.add( 'l')\n",
    "set2.add( 'd')\n",
    "print(set2)   #for루프 써서 다시해보기"
   ]
  },
  {
   "cell_type": "markdown",
   "id": "62a190c0",
   "metadata": {
    "id": "9ca1d270"
   },
   "source": [
    "## 2) 자료형 - tuple"
   ]
  },
  {
   "cell_type": "markdown",
   "id": "b69afd26",
   "metadata": {
    "id": "ZfGLIWb71YTz"
   },
   "source": [
    "① 23.5, 10.1로 구성된 튜플 t1과 1, 2, 3, 4, 5로 구성된 튜플 t2를 각각 만들어 출력하고 자료형을 확인하시오.  \n",
    "* 힌트: type(튜플)"
   ]
  },
  {
   "cell_type": "code",
   "execution_count": 12,
   "id": "b00b47d0",
   "metadata": {
    "id": "f778bb3a"
   },
   "outputs": [
    {
     "name": "stdout",
     "output_type": "stream",
     "text": [
      "<class 'tuple'>\n",
      "<class 'tuple'>\n"
     ]
    }
   ],
   "source": [
    "t1=(23.5, 10.1)\n",
    "print(type(t1))\n",
    "t2=(1, 2, 3, 4, 5)\n",
    "print(type(t2))"
   ]
  },
  {
   "cell_type": "markdown",
   "id": "b9f6a2eb",
   "metadata": {
    "id": "uh23gQVb1jo_"
   },
   "source": [
    "② 1, 2, 3, 4, 5로 구성된 튜플 t2에서 인덱스를 사용하여 첫 번째 값과 세 번째 값을 조회하시오."
   ]
  },
  {
   "cell_type": "code",
   "execution_count": 13,
   "id": "9b73723e",
   "metadata": {
    "id": "00beb53e"
   },
   "outputs": [
    {
     "name": "stdout",
     "output_type": "stream",
     "text": [
      "1\n",
      "3\n"
     ]
    }
   ],
   "source": [
    "print(t2[0])\n",
    "print(t2[2])"
   ]
  },
  {
   "cell_type": "markdown",
   "id": "8e4e0c62",
   "metadata": {
    "id": "cPHsFQtw1mXB"
   },
   "source": [
    "③ empty라는 이름으로 비어 있는 튜플을 만들고 튜플의 자료형을 확인하시오."
   ]
  },
  {
   "cell_type": "code",
   "execution_count": 14,
   "id": "b4bf48a1",
   "metadata": {
    "id": "3458fe5b"
   },
   "outputs": [
    {
     "data": {
      "text/plain": [
       "tuple"
      ]
     },
     "execution_count": 14,
     "metadata": {},
     "output_type": "execute_result"
    }
   ],
   "source": [
    "empty=()\n",
    "type(empty)"
   ]
  },
  {
   "cell_type": "markdown",
   "id": "5fd8a183",
   "metadata": {
    "id": "GddN6l121oQY"
   },
   "source": [
    "④ 튜플 t3가 1, 3, 5, 7, 9로 구성되어 있다고 할 때, 인덱스를 사용하여 튜플의 세 번째부터 마지막 값을 출력하시오.\n"
   ]
  },
  {
   "cell_type": "code",
   "execution_count": 15,
   "id": "ad651ac7",
   "metadata": {
    "id": "bfa77ac2"
   },
   "outputs": [
    {
     "name": "stdout",
     "output_type": "stream",
     "text": [
      "(5, 7, 9)\n"
     ]
    }
   ],
   "source": [
    "t3=(1,3,5,7,9)\n",
    "print(t3[2:])"
   ]
  },
  {
   "cell_type": "markdown",
   "id": "8baafc36",
   "metadata": {
    "id": "0a098884"
   },
   "source": [
    "## 3) 라이브러리(패키지), 모듈, 함수"
   ]
  },
  {
   "cell_type": "markdown",
   "id": "1b5f30d7",
   "metadata": {
    "id": "PDIOMJZM1rjF"
   },
   "source": [
    "① import로 math 라이브러리를 불러와 봅시다. 불러온 라이브러리를 활용하여 팩토리얼 계산을 해 봅시다.  \n",
    "팩토리얼 계산 함수는 n!을 계산할 때 factorial(n)이다. "
   ]
  },
  {
   "cell_type": "code",
   "execution_count": 19,
   "id": "ed9efe0d",
   "metadata": {
    "id": "80d31d90"
   },
   "outputs": [
    {
     "name": "stdout",
     "output_type": "stream",
     "text": [
      "6\n"
     ]
    }
   ],
   "source": [
    "import math\n",
    "print(math.factorial(3))"
   ]
  },
  {
   "cell_type": "markdown",
   "id": "2c7a106b",
   "metadata": {
    "id": "lgJOPUcg1vbA"
   },
   "source": [
    "② 이번에는 import로 불러온 라이브러리에 별칭을 붙여 봅시다.   \n",
    "math 라이브러리를 불러오며 m이라는 별칭을 붙여 주고,  \n",
    "팩토리얼 계산을 해 봅시다."
   ]
  },
  {
   "cell_type": "code",
   "execution_count": 20,
   "id": "cf946967",
   "metadata": {
    "id": "250d3f9d"
   },
   "outputs": [
    {
     "name": "stdout",
     "output_type": "stream",
     "text": [
      "6\n"
     ]
    }
   ],
   "source": [
    "import math as m\n",
    "print(m.factorial(3))"
   ]
  },
  {
   "cell_type": "markdown",
   "id": "2572af14",
   "metadata": {
    "id": "KN3iayTi10C6"
   },
   "source": [
    "③ 이번에는 math 라이브러리에서 factorial 함수만 불러와서 팩토리얼 계산을 해 봅시다."
   ]
  },
  {
   "cell_type": "code",
   "execution_count": 22,
   "id": "fad7543c",
   "metadata": {
    "id": "77d10052"
   },
   "outputs": [
    {
     "name": "stdout",
     "output_type": "stream",
     "text": [
      "6\n"
     ]
    }
   ],
   "source": [
    "from math import factorial\n",
    "print(factorial(3))"
   ]
  },
  {
   "cell_type": "markdown",
   "id": "29b219b8",
   "metadata": {
    "id": "KN3iayTi10C6"
   },
   "source": [
    "④ random 라이브러리 사용하기\n",
    "* random 라이브러리를 rd 별칭으로 불러옵시다.\n",
    "* randint 함수를 사용해 봅시다.\n",
    "    * randint(a,b) : a부터 b 사이의 임의의 숫자를 반환합니다."
   ]
  },
  {
   "cell_type": "code",
   "execution_count": 24,
   "id": "ba6debf1",
   "metadata": {
    "id": "77d10052"
   },
   "outputs": [
    {
     "data": {
      "text/plain": [
       "5"
      ]
     },
     "execution_count": 24,
     "metadata": {},
     "output_type": "execute_result"
    }
   ],
   "source": [
    "import random as rd\n",
    "rd.randint(1,5)"
   ]
  },
  {
   "cell_type": "markdown",
   "id": "53fd703b",
   "metadata": {
    "id": "z4DCZDyu13kD"
   },
   "source": [
    "⑤ [심화] 주사위를 던져서 나온 숫자들의 총합을 구하는 코드를 작성해 봅시다.\n",
    "* 주사위를 던질 횟수를 받는 변수 count(숫자)\n",
    "* count 만큼 주사위를 던져서 나온 모든 숫자들의 합 구해 봅시다.\n",
    "* 주사위의 각 면에는 1 ~ 6까지의 눈이 새겨져 있고, 각 숫자는 무작위로 나옵니다.(randint 함수 사용)\n",
    "\n",
    "* 힌트 : 주사위를 던져 나온 수들을 리스트에 저장하고, sum 함수를 이용해 봅시다."
   ]
  },
  {
   "cell_type": "code",
   "execution_count": 26,
   "id": "1b80c94d",
   "metadata": {
    "id": "2558fc12"
   },
   "outputs": [
    {
     "name": "stdout",
     "output_type": "stream",
     "text": [
      "13\n"
     ]
    }
   ],
   "source": [
    "#내 답\n",
    "count=5\n",
    "total=[]\n",
    "for i in range(count):\n",
    "    a=rd.randint(1,6)\n",
    "    total.append(a)\n",
    "print(sum(total))\n"
   ]
  },
  {
   "cell_type": "code",
   "execution_count": 31,
   "id": "efad9458",
   "metadata": {},
   "outputs": [
    {
     "name": "stdout",
     "output_type": "stream",
     "text": [
      "10\n",
      "4\n",
      "2\n",
      "1\n",
      "1\n",
      "3\n",
      "3\n",
      "5\n",
      "2\n",
      "5\n",
      "5\n",
      "31\n"
     ]
    }
   ],
   "source": [
    "#수업 답 1.\n",
    "count = int(input())\n",
    "total =0\n",
    "for i in range(count) :\n",
    "    n=rd.randint(1,6)\n",
    "    total = total+n   #n을 설정해주는 이유는 만약 n지정 없이 total과 print를 하면 둘다 랜덤이 돌아가서 값이 다르다.\n",
    "    print(n)\n",
    "print(total)"
   ]
  },
  {
   "cell_type": "code",
   "execution_count": 34,
   "id": "5dd9cf5c",
   "metadata": {},
   "outputs": [
    {
     "name": "stdout",
     "output_type": "stream",
     "text": [
      "5\n",
      "[1, 5, 4, 5, 3]\n",
      "18\n"
     ]
    }
   ],
   "source": [
    "#수업 답 2.\n",
    "count = int(input())\n",
    "dice=[]\n",
    "for i in range(count):\n",
    "    n=rd.randint(1,6)\n",
    "    dice.append(n)\n",
    "    \n",
    "print(dice)\n",
    "print(sum(dice))"
   ]
  },
  {
   "cell_type": "markdown",
   "id": "62a8a187",
   "metadata": {},
   "source": [
    "⑥ [심화] 주사위 두개를 한꺼번에 던져서 나온 두 숫자의 합을 구하고, 이를 여러번 시행했을 때의 평균 값을 구해 봅시다.\n",
    "\n",
    "* 주사위 2개를 던질 횟수 변수 count\n",
    "* 주사위의 각 면에는 1 ~ 6까지의 눈이 새겨져 있고, 각 숫자는 무작위로 나옵니다.(randint 함수 사용)\n",
    "* n번 시행후, 두 주사위 숫자 합의 평균을 구해 봅시다.\n",
    "\n",
    "* 힌트 : 두 주사위를 던져 나온 수의 합을 각각 리스트에 저장하고, sum 함수와 len 함수를 이용하여 평균을 구해 봅시다."
   ]
  },
  {
   "cell_type": "code",
   "execution_count": 27,
   "id": "9ec12262",
   "metadata": {},
   "outputs": [
    {
     "name": "stdout",
     "output_type": "stream",
     "text": [
      "6.1\n"
     ]
    }
   ],
   "source": [
    "#내 답\n",
    "count=10\n",
    "total=[]\n",
    "for i in range(count):\n",
    "    a=rd.randint(1,6)\n",
    "    b=rd.randint(1,6)\n",
    "    total.append(a+b)\n",
    "print(sum(total)/len(total))"
   ]
  },
  {
   "cell_type": "code",
   "execution_count": 38,
   "id": "2e7a9ac2",
   "metadata": {},
   "outputs": [
    {
     "name": "stdout",
     "output_type": "stream",
     "text": [
      "3\n",
      "[8, 3, 8]\n",
      "6.333333333333333\n"
     ]
    }
   ],
   "source": [
    "#수업 답\n",
    "count=int(input())\n",
    "dice=[]\n",
    "for i in range(count):\n",
    "    n1=rd.randint(1,6)\n",
    "    n2=rd.randint(1,6)\n",
    "    dice.append(n1+n2)\n",
    "    \n",
    "print(dice)\n",
    "print(sum(dice)/count)"
   ]
  },
  {
   "cell_type": "code",
   "execution_count": null,
   "id": "9c943eff",
   "metadata": {},
   "outputs": [],
   "source": []
  }
 ],
 "metadata": {
  "colab": {
   "collapsed_sections": [],
   "name": "12과 [실습] 자료형 - set,tuple & 모듈 불러오기.ipynb",
   "provenance": []
  },
  "kernelspec": {
   "display_name": "Python 3",
   "language": "python",
   "name": "python3"
  },
  "language_info": {
   "codemirror_mode": {
    "name": "ipython",
    "version": 3
   },
   "file_extension": ".py",
   "mimetype": "text/x-python",
   "name": "python",
   "nbconvert_exporter": "python",
   "pygments_lexer": "ipython3",
   "version": "3.8.8"
  }
 },
 "nbformat": 4,
 "nbformat_minor": 5
}
